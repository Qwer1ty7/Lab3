{
  "nbformat": 4,
  "nbformat_minor": 0,
  "metadata": {
    "colab": {
      "name": "3.ipynb",
      "provenance": [],
      "collapsed_sections": [],
      "include_colab_link": true
    },
    "kernelspec": {
      "name": "python3",
      "display_name": "Python 3"
    },
    "language_info": {
      "name": "python"
    }
  },
  "cells": [
    {
      "cell_type": "markdown",
      "metadata": {
        "id": "view-in-github",
        "colab_type": "text"
      },
      "source": [
        "<a href=\"https://colab.research.google.com/github/Qwer1ty7/Lab3/blob/main/3.ipynb\" target=\"_parent\"><img src=\"https://colab.research.google.com/assets/colab-badge.svg\" alt=\"Open In Colab\"/></a>"
      ]
    },
    {
      "cell_type": "code",
      "source": [
        "!sudo apt install tesseract-ocr\n",
        "!pip install pytesseract"
      ],
      "metadata": {
        "id": "GPs5oqcGiEBG"
      },
      "execution_count": null,
      "outputs": []
    },
    {
      "cell_type": "code",
      "execution_count": null,
      "metadata": {
        "id": "h8Jk6qylcE6e"
      },
      "outputs": [],
      "source": [
        "from PIL import Image\n",
        "import pytesseract\n",
        "from matplotlib import pyplot as plt\n",
        "import numpy as np\n",
        "\n",
        "def process_image(image_path, lang_code):\n",
        "\timg = Image.open(image_path)\n",
        "\tplt.figure(figsize = (50, 50))\n",
        "\tplt.imshow(img, interpolation='nearest')\n",
        "\treturn pytesseract.image_to_string(img, lang = lang_code)\n",
        "\n",
        "\n",
        "def main():\n",
        "\ttext_eng = process_image(\"test.png\", \"eng\")\n",
        "\tprint(text_eng)\n",
        "\n",
        "main()"
      ]
    }
  ]
}